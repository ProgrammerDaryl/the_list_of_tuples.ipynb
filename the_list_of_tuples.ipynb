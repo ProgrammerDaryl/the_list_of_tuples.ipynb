{
 "cells": [
  {
   "cell_type": "code",
   "execution_count": 10,
   "metadata": {},
   "outputs": [
    {
     "name": "stdout",
     "output_type": "stream",
     "text": [
      "[1, 2, 3, 4]\n",
      "['Karina', 'Ningning', 'Winter', 'Giselle']\n",
      "result: listOfTuple  (1, \"Karina\"), (2, \"Ningning\"), (3, \"Winter\"), (4, \"Giselle\")\n"
     ]
    }
   ],
   "source": [
    "# create two lists\n",
    "first_list = [1, 2, 3, 4]\n",
    "second_list = [\"Karina\", \"Ningning\", \"Winter\", \"Giselle\"]\n",
    "print(first_list)\n",
    "print(second_list)\n",
    "list_of_tuple = [f'({a}, \"{b}\")' for a, b in zip(first_list, second_list)]\n",
    "styled_list_of_tuple = \", \".join(list_of_tuple)\n",
    "\n",
    "print(\"result: listOfTuple \", styled_list_of_tuple)"
   ]
  }
 ],
 "metadata": {
  "kernelspec": {
   "display_name": "Python 3",
   "language": "python",
   "name": "python3"
  },
  "language_info": {
   "codemirror_mode": {
    "name": "ipython",
    "version": 3
   },
   "file_extension": ".py",
   "mimetype": "text/x-python",
   "name": "python",
   "nbconvert_exporter": "python",
   "pygments_lexer": "ipython3",
   "version": "3.11.9"
  }
 },
 "nbformat": 4,
 "nbformat_minor": 2
}
